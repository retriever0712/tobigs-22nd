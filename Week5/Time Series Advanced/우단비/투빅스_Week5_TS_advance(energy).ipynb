{
  "nbformat": 4,
  "nbformat_minor": 0,
  "metadata": {
    "colab": {
      "provenance": [],
      "gpuType": "T4",
      "include_colab_link": true
    },
    "kernelspec": {
      "name": "python3",
      "display_name": "Python 3"
    },
    "language_info": {
      "name": "python"
    },
    "accelerator": "GPU"
  },
  "cells": [
    {
      "cell_type": "markdown",
      "metadata": {
        "id": "view-in-github",
        "colab_type": "text"
      },
      "source": [
        "<a href=\"https://colab.research.google.com/github/daanbee/tobigs-22nd/blob/main/%ED%88%AC%EB%B9%85%EC%8A%A4_Week5_TS_advance(energy).ipynb\" target=\"_parent\"><img src=\"https://colab.research.google.com/assets/colab-badge.svg\" alt=\"Open In Colab\"/></a>"
      ]
    },
    {
      "cell_type": "markdown",
      "source": [
        "## Q. 기상 실측 데이터를 토대로 태양광 발전량인 amount(2023-10-15) 값을 예측해보시오."
      ],
      "metadata": {
        "id": "H7M6mqavCdgs"
      }
    },
    {
      "cell_type": "code",
      "execution_count": 3,
      "metadata": {
        "id": "UunFQBs9FaX0",
        "collapsed": true,
        "colab": {
          "base_uri": "https://localhost:8080/"
        },
        "outputId": "30cd260d-4d3a-4d28-b5c0-993134d2162e"
      },
      "outputs": [
        {
          "output_type": "stream",
          "name": "stdout",
          "text": [
            "Mounted at /content/drive\n"
          ]
        }
      ],
      "source": [
        "import pandas as pd\n",
        "import numpy as np\n",
        "import torch\n",
        "import torch.nn as nn\n",
        "import torch.optim as optim\n",
        "from sklearn.preprocessing import MinMaxScaler\n",
        "import plotly.graph_objects as go\n",
        "from torch.utils.data import TensorDataset, DataLoader\n",
        "\n",
        "pd.set_option('display.max_column', 20)\n",
        "pd.set_option('display.max_row', 100)\n",
        "\n",
        "from google.colab import drive\n",
        "drive.mount('/content/drive')\n",
        "\n",
        "data = pd.read_csv('/content/drive/MyDrive/energy_tobigs_question.csv')\n",
        "data['time'] = pd.to_datetime(data['time'])\n",
        "\n",
        "# 피처와 타겟 변수 설정\n",
        "features = ['cloud', 'temp', 'humidity', 'ground_press', 'wind_speed', 'wind_dir', 'rain', 'snow', 'dew_point', 'vis', 'uv_idx', 'azimuth', 'elevation']\n",
        "target = 'amount'\n",
        "\n",
        "# 데이터셋 분리 (2023-10-14까지 학습, 2023-10-15 하루 예측)\n",
        "train_data = data[data['time'] < '2023-10-15'].copy()\n",
        "test_data = data[(data['time'] >= '2023-10-15') & (data['time'] < '2023-10-16')].copy()\n",
        "\n",
        "# 학습 데이터에 NaN 값 제거\n",
        "train_data = train_data.dropna()\n",
        "\n",
        "# 데이터 스케일링\n",
        "scaler_x = MinMaxScaler()\n",
        "scaler_y = MinMaxScaler()\n",
        "\n",
        "train_data.loc[:, features] = scaler_x.fit_transform(train_data[features])\n",
        "train_data.loc[:, target] = scaler_y.fit_transform(train_data[[target]])\n",
        "\n",
        "test_data.loc[:, features] = scaler_x.transform(test_data[features])"
      ]
    },
    {
      "cell_type": "markdown",
      "source": [
        "### 시퀀스 데이터 생성 함수 작성"
      ],
      "metadata": {
        "id": "dne_kc6_Fn6Z"
      }
    },
    {
      "cell_type": "code",
      "source": [
        "# 텐서로 변환해서 텐서데이터셋을 생성하세요. (1~6 번에 내용을 채워보세요.)\n",
        "\n",
        "# 시퀀스 데이터 생성 함수\n",
        "# dataX: 시퀀스 데이터를 담은 리스트 (예: [[시퀀스1], [시퀀스2], ...])\n",
        "# dataY: 각 시퀀스에 대응하는 타겟 값 (예: 발전량)\n",
        "\n",
        "def build_dataset(time_series, seq_length):\n",
        "    dataX, dataY = [], []\n",
        "    for i in range(len(time_series) - seq_length):\n",
        "        dataX.append(time_series[i:i+seq_length, :-1])\n",
        "        dataY.append(time_series[i+seq_length, [-1]])\n",
        "    return np.array(dataX), np.array(dataY)\n",
        "\n",
        "# 하이퍼파라미터 설정\n",
        "seq_length = 24\n",
        "batch_size = 32\n",
        "\n",
        "# 학습 데이터 생성\n",
        "# trainX: 24시간의 피처 데이터\n",
        "# trainY: 그 다음 시간에 대한 발전량 값\n",
        "trainX, trainY = build_dataset(train_data[features + [target]].values, seq_length)\n",
        "\n",
        "# 텐서로 변환\n",
        "trainX_tensor = torch.FloatTensor(trainX)\n",
        "trainY_tensor = torch.FloatTensor(trainY)\n",
        "\n",
        "# 텐서데이터셋 생성\n",
        "train_dataset = TensorDataset(trainX_tensor, trainY_tensor)\n",
        "train_loader = DataLoader(train_dataset, batch_size=batch_size, shuffle=True)"
      ],
      "metadata": {
        "id": "GkdLvF-nFrxQ"
      },
      "execution_count": 4,
      "outputs": []
    },
    {
      "cell_type": "markdown",
      "source": [
        "### 학습한 시계열 모델을 사용해서 예측을 해보세요 (RNN, LSTM, Transformer, Informer 중에서 선택적으로 활용)"
      ],
      "metadata": {
        "id": "LZtaJNcVFsLJ"
      }
    },
    {
      "cell_type": "code",
      "source": [
        "# 슬라이딩 윈도우 방식으로 2023-10-15의 24시간 발전량 예측해보기 (Direct Multi-step Forecast Strategy 혹은 Recursive Multi-step Forecast 등 이외의 방법론도 자유롭게 사용 가능)"
      ],
      "metadata": {
        "id": "pUEsSYdsGAaY"
      },
      "execution_count": null,
      "outputs": []
    },
    {
      "cell_type": "code",
      "source": [
        "import torch\n",
        "import torch.nn as nn\n",
        "import torch.optim as optim\n",
        "import numpy as np\n",
        "import pandas as pd\n",
        "\n",
        "# LSTM 모델 정의\n",
        "class LSTMModel(nn.Module):\n",
        "    def __init__(self, input_size, hidden_size, num_layers, output_size):\n",
        "        super(LSTMModel, self).__init__()\n",
        "        self.hidden_size = hidden_size\n",
        "        self.num_layers = num_layers\n",
        "        self.lstm = nn.LSTM(input_size, hidden_size, num_layers, batch_first=True)\n",
        "        self.fc = nn.Linear(hidden_size, output_size)\n",
        "\n",
        "    def forward(self, x):\n",
        "        h0 = torch.zeros(self.num_layers, x.size(0), self.hidden_size).to(x.device)  # 초기 hidden state\n",
        "        c0 = torch.zeros(self.num_layers, x.size(0), self.hidden_size).to(x.device)  # 초기 cell state\n",
        "\n",
        "        # LSTM forward pass\n",
        "        out, _ = self.lstm(x, (h0, c0))\n",
        "\n",
        "        # 마지막 LSTM 출력만 사용 (시퀀스 마지막 시간의 출력)\n",
        "        out = self.fc(out[:, -1, :])\n",
        "        return out\n",
        "\n",
        "# 하이퍼파라미터 설정\n",
        "input_size = len(features)  # 입력 피처의 개수\n",
        "hidden_size = 64  # LSTM hidden state 크기\n",
        "num_layers = 2  # LSTM 레이어 개수\n",
        "output_size = 1  # 출력 (예측할 타겟 값)\n",
        "learning_rate = 0.001\n",
        "num_epochs = 50\n",
        "seq_length = 24  # 슬라이딩 윈도우 길이\n",
        "\n",
        "# 모델 초기화\n",
        "model = LSTMModel(input_size, hidden_size, num_layers, output_size).to(torch.device('cpu'))\n",
        "\n",
        "# 손실 함수 및 옵티마이저 설정\n",
        "criterion = nn.MSELoss()\n",
        "optimizer = optim.Adam(model.parameters(), lr=learning_rate)\n",
        "\n",
        "# 모델 학습 (이전 코드에서 진행된 학습 부분을 사용)\n",
        "for epoch in range(num_epochs):\n",
        "    model.train()\n",
        "    for i, (inputs, targets) in enumerate(train_loader):\n",
        "        inputs = inputs.to(torch.device('cpu'))\n",
        "        targets = targets.to(torch.device('cpu'))\n",
        "\n",
        "        # 예측\n",
        "        outputs = model(inputs)\n",
        "\n",
        "        # 손실 계산\n",
        "        loss = criterion(outputs, targets)\n",
        "\n",
        "        # 역전파 및 최적화\n",
        "        optimizer.zero_grad()\n",
        "        loss.backward()\n",
        "        optimizer.step()\n",
        "\n",
        "    if (epoch+1) % 10 == 0:\n",
        "        print(f'Epoch [{epoch+1}/{num_epochs}], Loss: {loss.item():.4f}')\n",
        "\n",
        "\n",
        "# Recursive Multi-step Forecast for 2023-10-15 (슬라이딩 윈도우 방식)\n",
        "def recursive_forecast(model, initial_sequence, forecast_steps):\n",
        "    model.eval()  # 예측 모드로 전환\n",
        "    predictions = []\n",
        "    current_sequence = initial_sequence  # 처음에 주어진 시퀀스 (24시간)\n",
        "\n",
        "    with torch.no_grad():\n",
        "        for step in range(forecast_steps):\n",
        "            # 시퀀스를 텐서로 변환\n",
        "            input_tensor = torch.FloatTensor(current_sequence).unsqueeze(0).to(torch.device('cpu'))\n",
        "\n",
        "            # 모델로 예측 수행\n",
        "            predicted = model(input_tensor).item()  # 예측한 발전량\n",
        "\n",
        "            predictions.append(predicted)  # 예측 결과 저장\n",
        "\n",
        "            # 슬라이딩 윈도우: 새로운 예측을 다음 입력으로 포함\n",
        "            current_sequence = np.vstack([current_sequence[1:], [test_data[features].iloc[seq_length + step].values]])\n",
        "            current_sequence[-1, -1] = predicted  # 마지막 시퀀스의 타겟 값을 예측값으로 업데이트\n",
        "\n",
        "    return predictions\n",
        "\n",
        "# 2023-10-15 첫 24시간 시퀀스를 가져와서 예측 시작\n",
        "initial_sequence = test_data[features].iloc[:seq_length].values\n",
        "\n",
        "# 24시간 발전량 예측 수행 (슬라이딩 윈도우 방식)\n",
        "forecast_steps = 24\n",
        "predicted_values = recursive_forecast(model, initial_sequence, forecast_steps)\n",
        "\n",
        "# 예측값 스케일 복원 (MinMaxScaler 역변환)\n",
        "predicted_values = scaler_y.inverse_transform(np.array(predicted_values).reshape(-1, 1))\n",
        "\n",
        "# 예측 결과 출력\n",
        "print(\"Predicted values for 2023-10-15: \", predicted_values.flatten())\n",
        "\n",
        "# 시각화\n",
        "import plotly.graph_objects as go\n",
        "\n",
        "true_values = test_data[target].values[:forecast_steps]  # 실제 값\n",
        "predicted_values = predicted_values.flatten()  # 예측 값\n",
        "\n",
        "fig = go.Figure()\n",
        "\n",
        "# 실제 값 플롯\n",
        "fig.add_trace(go.Scatter(x=test_data['time'].values[:forecast_steps], y=true_values, mode='lines', name='True Values'))\n",
        "\n",
        "# 예측 값 플롯\n",
        "fig.add_trace(go.Scatter(x=test_data['time'].values[:forecast_steps], y=predicted_values, mode='lines', name='Predicted Values'))\n",
        "\n",
        "fig.update_layout(title='2023-10-15 발전량 예측 (Recursive Multi-step Forecast)',\n",
        "                  xaxis_title='시간',\n",
        "                  yaxis_title='발전량')\n",
        "\n",
        "fig.show()\n"
      ],
      "metadata": {
        "colab": {
          "base_uri": "https://localhost:8080/",
          "height": 435
        },
        "id": "dDFbgdxd-yom",
        "outputId": "7de124ed-91a4-406d-c0b9-d7eccfb51ee5"
      },
      "execution_count": 6,
      "outputs": [
        {
          "output_type": "stream",
          "name": "stdout",
          "text": [
            "Epoch [10/50], Loss: 0.0116\n",
            "Epoch [20/50], Loss: 0.0008\n",
            "Epoch [30/50], Loss: 0.0033\n",
            "Epoch [40/50], Loss: 0.0043\n",
            "Epoch [50/50], Loss: 0.0030\n"
          ]
        },
        {
          "output_type": "error",
          "ename": "IndexError",
          "evalue": "single positional indexer is out-of-bounds",
          "traceback": [
            "\u001b[0;31m---------------------------------------------------------------------------\u001b[0m",
            "\u001b[0;31mIndexError\u001b[0m                                Traceback (most recent call last)",
            "\u001b[0;32m<ipython-input-6-276c688cd890>\u001b[0m in \u001b[0;36m<cell line: 92>\u001b[0;34m()\u001b[0m\n\u001b[1;32m     90\u001b[0m \u001b[0;31m# 24시간 발전량 예측 수행 (슬라이딩 윈도우 방식)\u001b[0m\u001b[0;34m\u001b[0m\u001b[0;34m\u001b[0m\u001b[0m\n\u001b[1;32m     91\u001b[0m \u001b[0mforecast_steps\u001b[0m \u001b[0;34m=\u001b[0m \u001b[0;36m24\u001b[0m\u001b[0;34m\u001b[0m\u001b[0;34m\u001b[0m\u001b[0m\n\u001b[0;32m---> 92\u001b[0;31m \u001b[0mpredicted_values\u001b[0m \u001b[0;34m=\u001b[0m \u001b[0mrecursive_forecast\u001b[0m\u001b[0;34m(\u001b[0m\u001b[0mmodel\u001b[0m\u001b[0;34m,\u001b[0m \u001b[0minitial_sequence\u001b[0m\u001b[0;34m,\u001b[0m \u001b[0mforecast_steps\u001b[0m\u001b[0;34m)\u001b[0m\u001b[0;34m\u001b[0m\u001b[0;34m\u001b[0m\u001b[0m\n\u001b[0m\u001b[1;32m     93\u001b[0m \u001b[0;34m\u001b[0m\u001b[0m\n\u001b[1;32m     94\u001b[0m \u001b[0;31m# 예측값 스케일 복원 (MinMaxScaler 역변환)\u001b[0m\u001b[0;34m\u001b[0m\u001b[0;34m\u001b[0m\u001b[0m\n",
            "\u001b[0;32m<ipython-input-6-276c688cd890>\u001b[0m in \u001b[0;36mrecursive_forecast\u001b[0;34m(model, initial_sequence, forecast_steps)\u001b[0m\n\u001b[1;32m     80\u001b[0m \u001b[0;34m\u001b[0m\u001b[0m\n\u001b[1;32m     81\u001b[0m             \u001b[0;31m# 슬라이딩 윈도우: 새로운 예측을 다음 입력으로 포함\u001b[0m\u001b[0;34m\u001b[0m\u001b[0;34m\u001b[0m\u001b[0m\n\u001b[0;32m---> 82\u001b[0;31m             \u001b[0mcurrent_sequence\u001b[0m \u001b[0;34m=\u001b[0m \u001b[0mnp\u001b[0m\u001b[0;34m.\u001b[0m\u001b[0mvstack\u001b[0m\u001b[0;34m(\u001b[0m\u001b[0;34m[\u001b[0m\u001b[0mcurrent_sequence\u001b[0m\u001b[0;34m[\u001b[0m\u001b[0;36m1\u001b[0m\u001b[0;34m:\u001b[0m\u001b[0;34m]\u001b[0m\u001b[0;34m,\u001b[0m \u001b[0;34m[\u001b[0m\u001b[0mtest_data\u001b[0m\u001b[0;34m[\u001b[0m\u001b[0mfeatures\u001b[0m\u001b[0;34m]\u001b[0m\u001b[0;34m.\u001b[0m\u001b[0miloc\u001b[0m\u001b[0;34m[\u001b[0m\u001b[0mseq_length\u001b[0m \u001b[0;34m+\u001b[0m \u001b[0mstep\u001b[0m\u001b[0;34m]\u001b[0m\u001b[0;34m.\u001b[0m\u001b[0mvalues\u001b[0m\u001b[0;34m]\u001b[0m\u001b[0;34m]\u001b[0m\u001b[0;34m)\u001b[0m\u001b[0;34m\u001b[0m\u001b[0;34m\u001b[0m\u001b[0m\n\u001b[0m\u001b[1;32m     83\u001b[0m             \u001b[0mcurrent_sequence\u001b[0m\u001b[0;34m[\u001b[0m\u001b[0;34m-\u001b[0m\u001b[0;36m1\u001b[0m\u001b[0;34m,\u001b[0m \u001b[0;34m-\u001b[0m\u001b[0;36m1\u001b[0m\u001b[0;34m]\u001b[0m \u001b[0;34m=\u001b[0m \u001b[0mpredicted\u001b[0m  \u001b[0;31m# 마지막 시퀀스의 타겟 값을 예측값으로 업데이트\u001b[0m\u001b[0;34m\u001b[0m\u001b[0;34m\u001b[0m\u001b[0m\n\u001b[1;32m     84\u001b[0m \u001b[0;34m\u001b[0m\u001b[0m\n",
            "\u001b[0;32m/usr/local/lib/python3.10/dist-packages/pandas/core/indexing.py\u001b[0m in \u001b[0;36m__getitem__\u001b[0;34m(self, key)\u001b[0m\n\u001b[1;32m   1151\u001b[0m \u001b[0;34m\u001b[0m\u001b[0m\n\u001b[1;32m   1152\u001b[0m             \u001b[0mmaybe_callable\u001b[0m \u001b[0;34m=\u001b[0m \u001b[0mcom\u001b[0m\u001b[0;34m.\u001b[0m\u001b[0mapply_if_callable\u001b[0m\u001b[0;34m(\u001b[0m\u001b[0mkey\u001b[0m\u001b[0;34m,\u001b[0m \u001b[0mself\u001b[0m\u001b[0;34m.\u001b[0m\u001b[0mobj\u001b[0m\u001b[0;34m)\u001b[0m\u001b[0;34m\u001b[0m\u001b[0;34m\u001b[0m\u001b[0m\n\u001b[0;32m-> 1153\u001b[0;31m             \u001b[0;32mreturn\u001b[0m \u001b[0mself\u001b[0m\u001b[0;34m.\u001b[0m\u001b[0m_getitem_axis\u001b[0m\u001b[0;34m(\u001b[0m\u001b[0mmaybe_callable\u001b[0m\u001b[0;34m,\u001b[0m \u001b[0maxis\u001b[0m\u001b[0;34m=\u001b[0m\u001b[0maxis\u001b[0m\u001b[0;34m)\u001b[0m\u001b[0;34m\u001b[0m\u001b[0;34m\u001b[0m\u001b[0m\n\u001b[0m\u001b[1;32m   1154\u001b[0m \u001b[0;34m\u001b[0m\u001b[0m\n\u001b[1;32m   1155\u001b[0m     \u001b[0;32mdef\u001b[0m \u001b[0m_is_scalar_access\u001b[0m\u001b[0;34m(\u001b[0m\u001b[0mself\u001b[0m\u001b[0;34m,\u001b[0m \u001b[0mkey\u001b[0m\u001b[0;34m:\u001b[0m \u001b[0mtuple\u001b[0m\u001b[0;34m)\u001b[0m\u001b[0;34m:\u001b[0m\u001b[0;34m\u001b[0m\u001b[0;34m\u001b[0m\u001b[0m\n",
            "\u001b[0;32m/usr/local/lib/python3.10/dist-packages/pandas/core/indexing.py\u001b[0m in \u001b[0;36m_getitem_axis\u001b[0;34m(self, key, axis)\u001b[0m\n\u001b[1;32m   1712\u001b[0m \u001b[0;34m\u001b[0m\u001b[0m\n\u001b[1;32m   1713\u001b[0m             \u001b[0;31m# validate the location\u001b[0m\u001b[0;34m\u001b[0m\u001b[0;34m\u001b[0m\u001b[0m\n\u001b[0;32m-> 1714\u001b[0;31m             \u001b[0mself\u001b[0m\u001b[0;34m.\u001b[0m\u001b[0m_validate_integer\u001b[0m\u001b[0;34m(\u001b[0m\u001b[0mkey\u001b[0m\u001b[0;34m,\u001b[0m \u001b[0maxis\u001b[0m\u001b[0;34m)\u001b[0m\u001b[0;34m\u001b[0m\u001b[0;34m\u001b[0m\u001b[0m\n\u001b[0m\u001b[1;32m   1715\u001b[0m \u001b[0;34m\u001b[0m\u001b[0m\n\u001b[1;32m   1716\u001b[0m             \u001b[0;32mreturn\u001b[0m \u001b[0mself\u001b[0m\u001b[0;34m.\u001b[0m\u001b[0mobj\u001b[0m\u001b[0;34m.\u001b[0m\u001b[0m_ixs\u001b[0m\u001b[0;34m(\u001b[0m\u001b[0mkey\u001b[0m\u001b[0;34m,\u001b[0m \u001b[0maxis\u001b[0m\u001b[0;34m=\u001b[0m\u001b[0maxis\u001b[0m\u001b[0;34m)\u001b[0m\u001b[0;34m\u001b[0m\u001b[0;34m\u001b[0m\u001b[0m\n",
            "\u001b[0;32m/usr/local/lib/python3.10/dist-packages/pandas/core/indexing.py\u001b[0m in \u001b[0;36m_validate_integer\u001b[0;34m(self, key, axis)\u001b[0m\n\u001b[1;32m   1645\u001b[0m         \u001b[0mlen_axis\u001b[0m \u001b[0;34m=\u001b[0m \u001b[0mlen\u001b[0m\u001b[0;34m(\u001b[0m\u001b[0mself\u001b[0m\u001b[0;34m.\u001b[0m\u001b[0mobj\u001b[0m\u001b[0;34m.\u001b[0m\u001b[0m_get_axis\u001b[0m\u001b[0;34m(\u001b[0m\u001b[0maxis\u001b[0m\u001b[0;34m)\u001b[0m\u001b[0;34m)\u001b[0m\u001b[0;34m\u001b[0m\u001b[0;34m\u001b[0m\u001b[0m\n\u001b[1;32m   1646\u001b[0m         \u001b[0;32mif\u001b[0m \u001b[0mkey\u001b[0m \u001b[0;34m>=\u001b[0m \u001b[0mlen_axis\u001b[0m \u001b[0;32mor\u001b[0m \u001b[0mkey\u001b[0m \u001b[0;34m<\u001b[0m \u001b[0;34m-\u001b[0m\u001b[0mlen_axis\u001b[0m\u001b[0;34m:\u001b[0m\u001b[0;34m\u001b[0m\u001b[0;34m\u001b[0m\u001b[0m\n\u001b[0;32m-> 1647\u001b[0;31m             \u001b[0;32mraise\u001b[0m \u001b[0mIndexError\u001b[0m\u001b[0;34m(\u001b[0m\u001b[0;34m\"single positional indexer is out-of-bounds\"\u001b[0m\u001b[0;34m)\u001b[0m\u001b[0;34m\u001b[0m\u001b[0;34m\u001b[0m\u001b[0m\n\u001b[0m\u001b[1;32m   1648\u001b[0m \u001b[0;34m\u001b[0m\u001b[0m\n\u001b[1;32m   1649\u001b[0m     \u001b[0;31m# -------------------------------------------------------------------\u001b[0m\u001b[0;34m\u001b[0m\u001b[0;34m\u001b[0m\u001b[0m\n",
            "\u001b[0;31mIndexError\u001b[0m: single positional indexer is out-of-bounds"
          ]
        }
      ]
    },
    {
      "cell_type": "markdown",
      "source": [
        "### 2023-10-15 발전량 예측값을 predicted_amounts에 저장하고 시각화를 실행해주세요."
      ],
      "metadata": {
        "id": "GXnKhcF7Gd22"
      }
    },
    {
      "cell_type": "code",
      "source": [
        "# 시각화\n",
        "fig = go.Figure()\n",
        "\n",
        "# 실제 발전량 시각화\n",
        "fig.add_trace(go.Scatter(x=data['time'], y=data['amount'],\n",
        "                         mode='lines', name='Actual Amount'))\n",
        "\n",
        "# 예측된 발전량 시각화 (2023-10-15의 24시간 동안의 예측)\n",
        "fig.add_trace(go.Scatter(x=test_data['time'], y=predicted_amounts,\n",
        "                         mode='lines', name='Predicted Amount', line=dict(dash='dot', color='red')))\n",
        "\n",
        "# 레이아웃 설정\n",
        "fig.update_layout(title='2023-10-15 24시간 발전량 예측',\n",
        "                  xaxis_title='시간',\n",
        "                  yaxis_title='발전량 (kWh)')\n",
        "\n",
        "# 그래프 출력\n",
        "fig.show()"
      ],
      "metadata": {
        "id": "85a5LYliGbci"
      },
      "execution_count": null,
      "outputs": []
    },
    {
      "cell_type": "markdown",
      "source": [
        "### 정답을 적어주세요."
      ],
      "metadata": {
        "id": "i4qc4G_sIPYW"
      }
    },
    {
      "cell_type": "code",
      "source": [
        "# 예측된 24시간 발전량 출력\n",
        "print(f'2023-10-15 예측 발전량 (24시간): {predicted_amounts} kWh')"
      ],
      "metadata": {
        "id": "Oxu_nPKAIRiq"
      },
      "execution_count": null,
      "outputs": []
    },
    {
      "cell_type": "markdown",
      "source": [
        "---"
      ],
      "metadata": {
        "id": "ngKvGGwZIFLY"
      }
    },
    {
      "cell_type": "markdown",
      "source": [
        "### (필수) Informer모델은 transformer 모델의 어떤 부분을 개선하고자 했나요? (차이점을 중심으로 서술)"
      ],
      "metadata": {
        "id": "uG2WPZYKEOvn"
      }
    },
    {
      "cell_type": "code",
      "source": [],
      "metadata": {
        "id": "cGKQnbBeEfZo"
      },
      "execution_count": null,
      "outputs": []
    },
    {
      "cell_type": "markdown",
      "source": [
        "### (필수) 모델링 해석"
      ],
      "metadata": {
        "id": "bxrmj2bGGpKx"
      }
    },
    {
      "cell_type": "code",
      "source": [
        "# 모델을 선택했다면 왜 선택했는지 본인만의 근거를 정리해주세요.\n",
        "# 더 나아가 파라미터 선택의 기준이 있었다면 좋습니다."
      ],
      "metadata": {
        "id": "uXJxcNijGtVv"
      },
      "execution_count": null,
      "outputs": []
    },
    {
      "cell_type": "markdown",
      "source": [
        "### (선택) 데이터 해석"
      ],
      "metadata": {
        "id": "AWdkUtoyHwxC"
      }
    },
    {
      "cell_type": "code",
      "source": [
        "# 데이터셋을 보고 느낀 생각이나 본인만의 논리 전개 방식을 정리해주세요.\n",
        "# 전처리를 했다면 해당 전처리를 왜 했는지, 파생변수를 생성했다면 왜 만들었는지 등"
      ],
      "metadata": {
        "id": "dLm_wa71Hy1M"
      },
      "execution_count": null,
      "outputs": []
    }
  ]
}
